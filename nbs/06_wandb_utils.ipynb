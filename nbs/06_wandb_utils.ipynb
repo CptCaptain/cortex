{
 "cells": [
  {
   "cell_type": "markdown",
   "id": "3dcf9170-1fdc-40a6-a53a-eff5a372a610",
   "metadata": {},
   "source": [
    "# Weights and Biases Utils\n",
    "> For when you want to manage your runs after the fact"
   ]
  },
  {
   "cell_type": "code",
   "execution_count": null,
   "id": "37dbf8be-c1b5-4f39-a82e-2394e457cd3c",
   "metadata": {},
   "outputs": [],
   "source": [
    "import wandb"
   ]
  },
  {
   "cell_type": "code",
   "execution_count": null,
   "id": "0036f652-d97e-423c-a580-bfef4a461f2c",
   "metadata": {},
   "outputs": [],
   "source": [
    "base_wandb_path = 'nkoch-aitastic/van-detection'"
   ]
  },
  {
   "cell_type": "code",
   "execution_count": null,
   "id": "c1a6e213-d877-43c7-8ae2-94b6b3c24ad8",
   "metadata": {},
   "outputs": [],
   "source": [
    "def attach_model_to_run(run_id: str, model_path: str, wandb_path: str = base_wandb_path):\n",
    "    with wandb.init(id=run_id, resume=\"allow\", project='van-detection', entity='nkoch-aitastic') as run:\n",
    "    model_art = wandb.Artifact(name=model_name, type='model')\n",
    "    model_art.add_file(model_path)\n",
    "    run.log_artifact(model_art)   "
   ]
  },
  {
   "cell_type": "code",
   "execution_count": null,
   "id": "104c9915-75ab-42db-bce0-9b5fd72469e0",
   "metadata": {},
   "outputs": [],
   "source": [
    "run_id = 'xhgm8eyk'\n",
    "model_path = '/home/nils/VAN-Detection/work_dirs/fcos_van_b0_fpn_dcn_1x_coco_adam_scp_bof/epoch_12.pth'\n",
    "model_name = f'run_{run_id}_model'"
   ]
  },
  {
   "cell_type": "code",
   "execution_count": null,
   "id": "f0212ddc-6ea0-40b9-b34f-3c530dae5321",
   "metadata": {},
   "outputs": [],
   "source": [
    " attach_model_to_run(run_id='111lxdne', model_path='/home/nils/VAN-Detection/work_dirs/fcos_van_b2_fpn_coco_adam_ssj_scp/epoch_12.pth')"
   ]
  },
  {
   "cell_type": "code",
   "execution_count": null,
   "id": "5dee65b5-c98e-45cc-bffa-58e50b3013e5",
   "metadata": {},
   "outputs": [
    {
     "ename": "AttributeError",
     "evalue": "'Run' object has no attribute 'close'",
     "output_type": "error",
     "traceback": [
      "\u001b[0;31m---------------------------------------------------------------------------\u001b[0m",
      "\u001b[0;31mAttributeError\u001b[0m                            Traceback (most recent call last)",
      "Cell \u001b[0;32mIn[19], line 2\u001b[0m\n\u001b[1;32m      1\u001b[0m \u001b[38;5;66;03m# run = wandb.init(id=run_id, resume='allow')\u001b[39;00m\n\u001b[0;32m----> 2\u001b[0m \u001b[43mrun\u001b[49m\u001b[38;5;241;43m.\u001b[39;49m\u001b[43mclose\u001b[49m()\n",
      "\u001b[0;31mAttributeError\u001b[0m: 'Run' object has no attribute 'close'"
     ]
    }
   ],
   "source": [
    "# run = wandb.init(id=run_id, resume='allow')\n"
   ]
  },
  {
   "cell_type": "code",
   "execution_count": null,
   "id": "ff2e93b0-534f-4c34-aa4c-992dde64c6a1",
   "metadata": {},
   "outputs": [],
   "source": []
  }
 ],
 "metadata": {
  "kernelspec": {
   "display_name": "MMDet",
   "language": "python",
   "name": "mmdet"
  }
 },
 "nbformat": 4,
 "nbformat_minor": 5
}
