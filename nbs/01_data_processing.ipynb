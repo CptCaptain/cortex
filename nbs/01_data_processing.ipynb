{
 "cells": [
  {
   "cell_type": "markdown",
   "id": "6bb5d400-7681-4126-be0d-3181e0890d31",
   "metadata": {},
   "source": [
    "# Data processing\n",
    "\n",
    "> This will contain a (maybe multiple) pipeline(s) to process your data in preparation for model inference and training"
   ]
  },
  {
   "cell_type": "code",
   "execution_count": null,
   "id": "e0d08d93-04e3-4963-8d05-6462bbe2e334",
   "metadata": {},
   "outputs": [],
   "source": []
  }
 ],
 "metadata": {
  "kernelspec": {
   "display_name": "Python 3 (ipykernel)",
   "language": "python",
   "name": "python3"
  }
 },
 "nbformat": 4,
 "nbformat_minor": 5
}
