{
 "cells": [
  {
   "cell_type": "markdown",
   "id": "d8c8b0a1-170d-4dbf-a459-65a023ecded6",
   "metadata": {},
   "source": [
    "# Gradio demo\n",
    "> This will contain an interactive demo, built with gradio"
   ]
  },
  {
   "cell_type": "code",
   "execution_count": null,
   "id": "2e69fdf6-5532-457f-8fd1-75b9ec5836b9",
   "metadata": {},
   "outputs": [],
   "source": [
    "import gradio as gr"
   ]
  },
  {
   "cell_type": "code",
   "execution_count": null,
   "id": "877dd1ac-6463-492d-b7ef-ef99b0494d0c",
   "metadata": {},
   "outputs": [],
   "source": [
    "#|export\n",
    "def greet(name):\n",
    "    return \"Hello \" + name + \"!\""
   ]
  },
  {
   "cell_type": "code",
   "execution_count": null,
   "id": "4bc538b4-eb5d-4d67-910e-f5916c42f74c",
   "metadata": {},
   "outputs": [],
   "source": [
    "#|output: false\n",
    "demo = gr.Interface(fn=greet, inputs=\"text\", outputs=\"text\")\n",
    "\n",
    "demo.launch()   "
   ]
  },
  {
   "cell_type": "code",
   "execution_count": null,
   "id": "d32fbe68-3a24-4e4a-83ab-1aba84e6bf2c",
   "metadata": {},
   "outputs": [],
   "source": [
    "demo.close()"
   ]
  }
 ],
 "metadata": {
  "kernelspec": {
   "display_name": "Python 3 (ipykernel)",
   "language": "python",
   "name": "python3"
  }
 },
 "nbformat": 4,
 "nbformat_minor": 5
}
