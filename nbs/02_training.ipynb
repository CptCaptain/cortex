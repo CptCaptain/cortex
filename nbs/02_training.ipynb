{
 "cells": [
  {
   "cell_type": "markdown",
   "id": "d8c8b0a1-170d-4dbf-a459-65a023ecded6",
   "metadata": {},
   "source": [
    "# Training\n",
    "> This will contain training routines"
   ]
  },
  {
   "cell_type": "code",
   "execution_count": null,
   "id": "2e69fdf6-5532-457f-8fd1-75b9ec5836b9",
   "metadata": {},
   "outputs": [],
   "source": []
  }
 ],
 "metadata": {
  "kernelspec": {
   "display_name": "Python 3 (ipykernel)",
   "language": "python",
   "name": "python3"
  }
 },
 "nbformat": 4,
 "nbformat_minor": 5
}
