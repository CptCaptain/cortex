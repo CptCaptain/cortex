{
 "cells": [
  {
   "cell_type": "markdown",
   "id": "d8c8b0a1-170d-4dbf-a459-65a023ecded6",
   "metadata": {},
   "source": [
    "# Gradio demo MMDetection\n",
    "> This will contain an interactive demo, built with gradio  \n",
    "> Select an appropriate kernel before executing"
   ]
  },
  {
   "cell_type": "markdown",
   "id": "52fec863-4ca2-4454-b46a-f017fd0bd220",
   "metadata": {},
   "source": [
    "Based on [hysts' mmdetection huggingface space](https://huggingface.co/spaces/hysts/mmdetection)"
   ]
  },
  {
   "cell_type": "code",
   "execution_count": null,
   "id": "ee10bd08-7e0c-4331-8300-9348f9f38e94",
   "metadata": {},
   "outputs": [],
   "source": [
    "import gradio as gr\n",
    "import os"
   ]
  },
  {
   "cell_type": "code",
   "execution_count": null,
   "id": "98a76e07-1f48-4d49-aa9e-471ae1d5374a",
   "metadata": {},
   "outputs": [],
   "source": [
    "os.chdir('../model_repos/VAN-Detection/')"
   ]
  },
  {
   "cell_type": "code",
   "execution_count": null,
   "id": "5bc2859e-4314-40ad-9840-14dc003e84d5",
   "metadata": {},
   "outputs": [],
   "source": [
    "import wandb\n",
    "\n",
    "wandb_api = wandb.Api()"
   ]
  },
  {
   "cell_type": "code",
   "execution_count": null,
   "id": "877dd1ac-6463-492d-b7ef-ef99b0494d0c",
   "metadata": {},
   "outputs": [],
   "source": [
    "run_base_path = 'nkoch-aitastic/van-detection/run_{model}_model:latest'\n",
    "\n",
    "model_dict = {\n",
    "    \"FCOS-ResNet50\": {\n",
    "        # 'config': 'configs/refs/fcos_r50_caffe_fpn_gn-head_1x_coco_adam.py',\n",
    "        'config': 'configs/refs/fcos_r50_caffe_fpn_gn-head_1x_coco.py',\n",
    "        'model': '3ouwht0k',\n",
    "    },\n",
    "    \"FCOS-VAN-B0\": {\n",
    "        'config': 'configs/det_fpn/fcos_van_b0_fpn_dcn_1x_coco_adam_scp_bof.py',\n",
    "        'model': 'xhgm8eyk',\n",
    "    },\n",
    "    \"FCOS-VAN-B2\": {\n",
    "        'config': 'configs/det_fpn/fcos_van_b2_fpn_coco_adam_scp.py',\n",
    "        'model': '111lxdne',\n",
    "    },\n",
    "    # \"ATSS\": {\n",
    "    #     'config': 'configs/det_fpn/atss_van_b2_fpn_dyhead_coco.py',\n",
    "    #     'model': '3d74nm6r',\n",
    "    # },\n",
    "    # TODO upload model\n",
    "}\n",
    "\n",
    "DEFAULT_MODEL_NAME = 'FCOS-VAN-B0'\n",
    "DESCRIPTION = 'An interactive demonstration of various MMDetection based models'\n"
   ]
  },
  {
   "cell_type": "code",
   "execution_count": null,
   "id": "7e96de3a-6e1e-4a50-851a-aa9ad8365148",
   "metadata": {},
   "outputs": [
    {
     "name": "stderr",
     "output_type": "stream",
     "text": [
      "/home/nils/.local/lib/python3.10/site-packages/tqdm/auto.py:22: TqdmWarning: IProgress not found. Please update jupyter and ipywidgets. See https://ipywidgets.readthedocs.io/en/stable/user_install.html\n",
      "  from .autonotebook import tqdm as notebook_tqdm\n",
      "/home/nils/miniconda3/envs/demo_mmdet/lib/python3.10/site-packages/mmcv/__init__.py:20: UserWarning: On January 1, 2023, MMCV will release v2.0.0, in which it will remove components related to the training process and add a data transformation module. In addition, it will rename the package names mmcv to mmcv-lite and mmcv-full to mmcv. See https://github.com/open-mmlab/mmcv/blob/master/docs/en/compatibility.md for more details.\n",
      "  warnings.warn(\n"
     ]
    }
   ],
   "source": [
    "# Model handling\n",
    "import os\n",
    "\n",
    "import huggingface_hub\n",
    "import numpy as np\n",
    "import torch\n",
    "import torch.nn as nn\n",
    "import yaml\n",
    "from mmdet.apis import inference_detector, init_detector\n",
    "\n",
    "\n",
    "def _load_model_dict(path: str) -> dict[str, dict[str, str]]:\n",
    "    with open(path) as f:\n",
    "        dic = yaml.safe_load(f)\n",
    "    _update_config_path(dic)\n",
    "    return dic\n",
    "\n",
    "\n",
    "def _update_config_path(model_dict: dict[str, dict[str, str]]) -> None:\n",
    "    for dic in model_dict.values():\n",
    "        dic['config'] = dic['config'].replace(\n",
    "            'https://github.com/open-mmlab/mmdetection/tree/master',\n",
    "            'mmdet_configs')\n",
    "\n",
    "\n",
    "class Model:\n",
    "    # DETECTION_MODEL_DICT = _load_model_dict('model_dict/detection.yaml')\n",
    "    # INSTANCE_SEGMENTATION_MODEL_DICT = _load_model_dict(\n",
    "    #     'model_dict/instance_segmentation.yaml')\n",
    "    # PANOPTIC_SEGMENTATION_MODEL_DICT = _load_model_dict(\n",
    "    #     'model_dict/panoptic_segmentation.yaml')\n",
    "    MODEL_DICT = model_dict\n",
    "\n",
    "    def __init__(self, model_name: str, device: str | torch.device):\n",
    "        self.device = torch.device(device)\n",
    "        self._load_all_models_once()\n",
    "        self.model_name = model_name\n",
    "        self.model = self._load_model(model_name)\n",
    "\n",
    "    def _load_all_models_once(self) -> None:\n",
    "        for name in self.MODEL_DICT:\n",
    "            self._load_model(name)\n",
    "\n",
    "    def _load_model(self, name: str) -> nn.Module:\n",
    "        model_dict = self.MODEL_DICT[name]\n",
    "        print(model_dict)\n",
    "        print(model_dict.keys())\n",
    "        artifact = wandb_api.artifact(run_base_path.format(model=model_dict['model']), type='model')\n",
    "        chkpt_path = artifact.download()\n",
    "        # FIXME this is gonna suck\n",
    "        # most runs use the reference implemenation of VAN by the original authors, but some use\n",
    "        # the implementation of the mmdet team.\n",
    "        # They're not compatible.\n",
    "        # The workaround below will switch to the original implementation when necessary, but it won't switch back.\n",
    "        # FIXME also the chkpt_path won't always be epoch_12, I need to figure something out for this\n",
    "        try:\n",
    "            return init_detector(model_dict['config'], chkpt_path + '/epoch_12.pth', device=self.device)\n",
    "        except TypeError:\n",
    "            import van\n",
    "            return init_detector(model_dict['config'], chkpt_path + '/epoch_12.pth', device=self.device)\n",
    "\n",
    "    def set_model(self, name: str) -> None:\n",
    "        if name == self.model_name:\n",
    "            return\n",
    "        self.model_name = name\n",
    "        self.model = self._load_model(name)\n",
    "\n",
    "    def detect_and_visualize(\n",
    "        self, image: np.ndarray, score_threshold: float\n",
    "    ) -> tuple[list[np.ndarray] | tuple[list[np.ndarray],\n",
    "                                        list[list[np.ndarray]]]\n",
    "               | dict[str, np.ndarray], np.ndarray]:\n",
    "        out = self.detect(image)\n",
    "        vis = self.visualize_detection_results(image, out, score_threshold)\n",
    "        return out, vis\n",
    "\n",
    "    def detect(\n",
    "        self, image: np.ndarray\n",
    "    ) -> list[np.ndarray] | tuple[\n",
    "            list[np.ndarray], list[list[np.ndarray]]] | dict[str, np.ndarray]:\n",
    "        image = image[:, :, ::-1]  # RGB -> BGR\n",
    "        out = inference_detector(self.model, image)\n",
    "        return out\n",
    "\n",
    "    def visualize_detection_results(\n",
    "            self,\n",
    "            image: np.ndarray,\n",
    "            detection_results: list[np.ndarray]\n",
    "        | tuple[list[np.ndarray], list[list[np.ndarray]]]\n",
    "        | dict[str, np.ndarray],\n",
    "            score_threshold: float = 0.3) -> np.ndarray:\n",
    "        image = image[:, :, ::-1]  # RGB -> BGR\n",
    "        vis = self.model.show_result(image,\n",
    "                                     detection_results,\n",
    "                                     score_thr=score_threshold,\n",
    "                                     bbox_color=None,\n",
    "                                     text_color=(200, 200, 200),\n",
    "                                     mask_color=None)\n",
    "        return vis[:, :, ::-1]  # BGR -> RGB\n",
    "\n",
    "\n",
    "class AppModel(Model):\n",
    "    def run(\n",
    "        self, model_name: str, image: np.ndarray, score_threshold: float\n",
    "    ) -> tuple[list[np.ndarray] | tuple[list[np.ndarray],\n",
    "                                        list[list[np.ndarray]]]\n",
    "               | dict[str, np.ndarray], np.ndarray]:\n",
    "        self.set_model(model_name)\n",
    "        return self.detect_and_visualize(image, score_threshold)"
   ]
  },
  {
   "cell_type": "code",
   "execution_count": null,
   "id": "7a28d7a4-3ccf-4ba8-9876-32ada24f1d63",
   "metadata": {},
   "outputs": [],
   "source": [
    "# Some UI Helpers\n",
    "\n",
    "import pathlib\n",
    "import subprocess\n",
    "import tarfile\n",
    "\n",
    "import cv2\n",
    "import numpy as np\n",
    "\n",
    "\n",
    "def update_input_image(image: np.ndarray) -> dict:\n",
    "    if image is None:\n",
    "        return gr.Image.update(value=None)\n",
    "    scale = 1500 / max(image.shape[:2])\n",
    "    if scale < 1:\n",
    "        image = cv2.resize(image, None, fx=scale, fy=scale)\n",
    "    return gr.Image.update(value=image)\n",
    "\n",
    "\n",
    "def update_model_name(model_type: str) -> dict:\n",
    "    model_dict = getattr(AppModel, f'{model_type.upper()}_MODEL_DICT')\n",
    "    model_names = list(model_dict.keys())\n",
    "    model_name = DEFAULT_MODEL_NAMES[model_type]\n",
    "    return gr.Dropdown.update(choices=model_names, value=model_name)\n",
    "\n",
    "\n",
    "def update_visualization_score_threshold(model_type: str) -> dict:\n",
    "    return gr.Slider.update(visible=model_type != 'panoptic_segmentation')\n",
    "\n",
    "\n",
    "def update_redraw_button(model_type: str) -> dict:\n",
    "    return gr.Button.update(visible=model_type != 'panoptic_segmentation')\n",
    "\n",
    "\n",
    "def set_example_image(example: list) -> dict:\n",
    "    return gr.Image.update(value=example[0])\n"
   ]
  },
  {
   "cell_type": "code",
   "execution_count": null,
   "id": "4bc538b4-eb5d-4d67-910e-f5916c42f74c",
   "metadata": {},
   "outputs": [
    {
     "name": "stdout",
     "output_type": "stream",
     "text": [
      "{'config': 'configs/refs/fcos_r50_caffe_fpn_gn-head_1x_coco.py', 'model': '3ouwht0k'}\n",
      "dict_keys(['config', 'model'])\n"
     ]
    },
    {
     "name": "stderr",
     "output_type": "stream",
     "text": [
      "\u001b[34m\u001b[1mwandb\u001b[0m: Downloading large artifact run_3ouwht0k_model:latest, 367.90MB. 1 files... \n",
      "\u001b[34m\u001b[1mwandb\u001b[0m:   1 of 1 files downloaded.  \n",
      "Done. 0:0:0.0\n"
     ]
    },
    {
     "name": "stdout",
     "output_type": "stream",
     "text": [
      "load checkpoint from local path: ./artifacts/run_3ouwht0k_model:v0/epoch_12.pth\n",
      "{'config': 'configs/det_fpn/fcos_van_b0_fpn_dcn_1x_coco_adam_scp_bof.py', 'model': 'xhgm8eyk'}\n",
      "dict_keys(['config', 'model'])\n"
     ]
    },
    {
     "name": "stderr",
     "output_type": "stream",
     "text": [
      "\u001b[34m\u001b[1mwandb\u001b[0m: Downloading large artifact run_xhgm8eyk_model:latest, 137.37MB. 1 files... \n",
      "\u001b[34m\u001b[1mwandb\u001b[0m:   1 of 1 files downloaded.  \n",
      "Done. 0:0:0.0\n",
      "2023-01-09 10:42:38,023 - root - INFO - ModulatedDeformConvPack bbox_head.cls_convs.3.conv is upgraded to version 2.\n",
      "2023-01-09 10:42:38,025 - root - INFO - ModulatedDeformConvPack bbox_head.reg_convs.3.conv is upgraded to version 2.\n"
     ]
    },
    {
     "name": "stdout",
     "output_type": "stream",
     "text": [
      "load checkpoint from local path: ./artifacts/run_xhgm8eyk_model:v0/epoch_12.pth\n",
      "{'config': 'configs/det_fpn/fcos_van_b2_fpn_coco_adam_scp.py', 'model': '111lxdne'}\n",
      "dict_keys(['config', 'model'])\n"
     ]
    },
    {
     "name": "stderr",
     "output_type": "stream",
     "text": [
      "\u001b[34m\u001b[1mwandb\u001b[0m: Downloading large artifact run_111lxdne_model:latest, 391.94MB. 1 files... \n",
      "\u001b[34m\u001b[1mwandb\u001b[0m:   1 of 1 files downloaded.  \n",
      "Done. 0:0:0.0\n"
     ]
    },
    {
     "name": "stdout",
     "output_type": "stream",
     "text": [
      "load checkpoint from local path: ./artifacts/run_111lxdne_model:v0/epoch_12.pth\n",
      "{'config': 'configs/det_fpn/fcos_van_b0_fpn_dcn_1x_coco_adam_scp_bof.py', 'model': 'xhgm8eyk'}\n",
      "dict_keys(['config', 'model'])\n"
     ]
    },
    {
     "name": "stderr",
     "output_type": "stream",
     "text": [
      "\u001b[34m\u001b[1mwandb\u001b[0m: Downloading large artifact run_xhgm8eyk_model:latest, 137.37MB. 1 files... \n",
      "\u001b[34m\u001b[1mwandb\u001b[0m:   1 of 1 files downloaded.  \n",
      "Done. 0:0:0.0\n",
      "2023-01-09 10:42:39,928 - root - INFO - ModulatedDeformConvPack bbox_head.cls_convs.3.conv is upgraded to version 2.\n",
      "2023-01-09 10:42:39,930 - root - INFO - ModulatedDeformConvPack bbox_head.reg_convs.3.conv is upgraded to version 2.\n"
     ]
    },
    {
     "name": "stdout",
     "output_type": "stream",
     "text": [
      "load checkpoint from local path: ./artifacts/run_xhgm8eyk_model:v0/epoch_12.pth\n",
      "Running on local URL:  http://127.0.0.1:7860\n",
      "\n",
      "To create a public link, set `share=True` in `launch()`.\n"
     ]
    },
    {
     "data": {
      "text/html": [
       "<div><iframe src=\"http://127.0.0.1:7860/\" width=\"100%\" height=\"500\" allow=\"autoplay; camera; microphone; clipboard-read; clipboard-write;\" frameborder=\"0\" allowfullscreen></iframe></div>"
      ],
      "text/plain": [
       "<IPython.core.display.HTML object>"
      ]
     },
     "metadata": {},
     "output_type": "display_data"
    },
    {
     "data": {
      "text/plain": []
     },
     "execution_count": null,
     "metadata": {},
     "output_type": "execute_result"
    },
    {
     "name": "stderr",
     "output_type": "stream",
     "text": [
      "/home/nils/VAN-Detection/mmdetection/mmdet/datasets/utils.py:66: UserWarning: \"ImageToTensor\" pipeline is replaced by \"DefaultFormatBundle\" for batch inference. It is recommended to manually replace it in the test data pipeline in your config file.\n",
      "  warnings.warn(\n"
     ]
    }
   ],
   "source": [
    "#|output: false\n",
    "# if demo:\n",
    "    # demo.close()\n",
    "\n",
    "model = AppModel(DEFAULT_MODEL_NAME, 'cuda')\n",
    "    \n",
    "with gr.Blocks() as demo:\n",
    "    gr.Markdown(DESCRIPTION)\n",
    "\n",
    "    with gr.Row():\n",
    "        with gr.Column():\n",
    "            with gr.Row():\n",
    "                input_image = gr.Image(label='Input Image', type='numpy')\n",
    "            with gr.Group():\n",
    "                with gr.Row():\n",
    "                    model_name = gr.Dropdown(list(\n",
    "                        model.MODEL_DICT.keys()),\n",
    "                                             value=DEFAULT_MODEL_NAME,\n",
    "                                             label='Model')\n",
    "            with gr.Row():\n",
    "                run_button = gr.Button(value='Run')\n",
    "                prediction_results = gr.Variable()\n",
    "        with gr.Column():\n",
    "            with gr.Row():\n",
    "                visualization = gr.Image(label='Result', type='numpy')\n",
    "            with gr.Row():\n",
    "                visualization_score_threshold = gr.Slider(\n",
    "                    0,\n",
    "                    1,\n",
    "                    step=0.05,\n",
    "                    value=0.3,\n",
    "                    label='Visualization Score Threshold')\n",
    "            with gr.Row():\n",
    "                redraw_button = gr.Button(value='Redraw')\n",
    "\n",
    "    with gr.Row():\n",
    "        paths = sorted(pathlib.Path('images').rglob('*.jpg'))\n",
    "        example_images = gr.Dataset(components=[input_image],\n",
    "                                    samples=[[path.as_posix()]\n",
    "                                             for path in paths])\n",
    "\n",
    "    input_image.change(fn=update_input_image,\n",
    "                       inputs=input_image,\n",
    "                       outputs=input_image)\n",
    "\n",
    "    # model_type.change(fn=update_model_name,\n",
    "    #                   inputs=model_type,\n",
    "    #                   outputs=model_name)\n",
    "    # model_type.change(fn=update_visualization_score_threshold,\n",
    "    #                   inputs=model_type,\n",
    "    #                   outputs=visualization_score_threshold)\n",
    "    # model_type.change(fn=update_redraw_button,\n",
    "    #                   inputs=model_type,\n",
    "    #                   outputs=redraw_button)\n",
    "\n",
    "    model_name.change(fn=model.set_model, inputs=model_name, outputs=None)\n",
    "    run_button.click(fn=model.run,\n",
    "                     inputs=[\n",
    "                         model_name,\n",
    "                         input_image,\n",
    "                         visualization_score_threshold,\n",
    "                     ],\n",
    "                     outputs=[\n",
    "                         prediction_results,\n",
    "                         visualization,\n",
    "                     ])\n",
    "    redraw_button.click(fn=model.visualize_detection_results,\n",
    "                        inputs=[\n",
    "                            input_image,\n",
    "                            prediction_results,\n",
    "                            visualization_score_threshold,\n",
    "                        ],\n",
    "                        outputs=visualization)\n",
    "    example_images.click(fn=set_example_image,\n",
    "                         inputs=example_images,\n",
    "                         outputs=input_image)\n",
    "\n",
    "\n",
    "demo.launch()   "
   ]
  },
  {
   "cell_type": "code",
   "execution_count": null,
   "id": "d32fbe68-3a24-4e4a-83ab-1aba84e6bf2c",
   "metadata": {},
   "outputs": [
    {
     "name": "stdout",
     "output_type": "stream",
     "text": [
      "Closing server running on port: 7860\n"
     ]
    }
   ],
   "source": [
    "# demo.close()"
   ]
  },
  {
   "cell_type": "code",
   "execution_count": null,
   "id": "21368c5d-c4c5-4e9f-a0aa-fdd417c22c7c",
   "metadata": {},
   "outputs": [],
   "source": []
  }
 ],
 "metadata": {
  "kernelspec": {
   "display_name": "MMDet",
   "language": "python",
   "name": "mmdet"
  }
 },
 "nbformat": 4,
 "nbformat_minor": 5
}
