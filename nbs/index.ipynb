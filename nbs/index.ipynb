{
 "cells": [
  {
   "cell_type": "code",
   "execution_count": null,
   "metadata": {},
   "outputs": [],
   "source": [
    "#| hide\n",
    "from cortex.core import *"
   ]
  },
  {
   "cell_type": "markdown",
   "metadata": {},
   "source": [
    "# cortex\n",
    "\n",
    "> Researching fast and accurate Object Detection"
   ]
  },
  {
   "cell_type": "markdown",
   "metadata": {},
   "source": [
    "[![Deploy to GitHub Pages](https://github.com/CptCaptain/cortex/actions/workflows/deploy.yaml/badge.svg)](https://github.com/CptCaptain/cortex/actions/workflows/deploy.yaml)\n",
    "[![CI](https://github.com/CptCaptain/cortex/actions/workflows/test.yaml/badge.svg)](https://github.com/CptCaptain/cortex/actions/workflows/test.yaml)\n",
    "\n",
    "This file will become your README and also the index of your documentation."
   ]
  },
  {
   "cell_type": "markdown",
   "metadata": {},
   "source": [
    "## Install"
   ]
  },
  {
   "cell_type": "markdown",
   "metadata": {},
   "source": [
    "```sh\n",
    "pip install cortex\n",
    "```"
   ]
  },
  {
   "cell_type": "markdown",
   "metadata": {},
   "source": [
    "## How to use"
   ]
  },
  {
   "cell_type": "markdown",
   "metadata": {},
   "source": [
    "At some point, this will contain (or link to) a gradio demo page, where the different models can be interactively tested in various settings."
   ]
  },
  {
   "cell_type": "markdown",
   "metadata": {},
   "source": [
    "Not yet, though."
   ]
  },
  {
   "cell_type": "markdown",
   "metadata": {},
   "source": [
    "To use this, you might need to tunnel some ports over ssh.\n",
    "ssh -L8888:localhost:8888 $GPU-SERVER\n",
    "ssh -L7860:localhost:7860 $GPU-SERVER"
   ]
  },
  {
   "cell_type": "code",
   "execution_count": null,
   "metadata": {},
   "outputs": [],
   "source": []
  }
 ],
 "metadata": {
  "kernelspec": {
   "display_name": "Python 3 (ipykernel)",
   "language": "python",
   "name": "python3"
  }
 },
 "nbformat": 4,
 "nbformat_minor": 4
}
